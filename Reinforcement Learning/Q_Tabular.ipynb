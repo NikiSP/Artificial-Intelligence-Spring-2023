{
 "cells": [
  {
   "cell_type": "markdown",
   "metadata": {},
   "source": [
    "<img src='http://www-scf.usc.edu/~ghasemig/images/sharif.png' alt=\"SUT logo\" width=300 height=300 align=left class=\"saturate\" >\n",
    "\n",
    "<br>\n",
    "<font>\n",
    "<div dir=ltr align=center>\n",
    "<font color=0F5298 size=7>\n",
    "    Artificial Intelligence <br>\n",
    "<font color=2565AE size=5>\n",
    "    Computer Engineering Department <br>\n",
    "    Spring 2023<br>\n",
    "<font color=3C99D size=5>\n",
    "    Practical Assignment 3 - Reinforcement Learning <br>\n",
    "<font color=696880 size=4>\n",
    "    Mohammad Moshtaghi - Ali Salesi - Hossein Goli\n",
    "\n",
    "____"
   ]
  },
  {
   "cell_type": "markdown",
   "metadata": {},
   "source": [
    "# Personal Data"
   ]
  },
  {
   "cell_type": "code",
   "execution_count": 64,
   "metadata": {},
   "outputs": [],
   "source": [
    "# Set your student number\n",
    "student_number = '400105003'\n",
    "first_name ='Niki'\n",
    "last_name = 'Sepasian'"
   ]
  },
  {
   "cell_type": "code",
   "execution_count": 1,
   "metadata": {},
   "outputs": [],
   "source": [
    "#pip install gym[toy_text]\n",
    "import gym \n",
    "import numpy as np\n",
    "from IPython.display import clear_output\n",
    "import matplotlib.pyplot as plt\n",
    "import os\n",
    "from tqdm import trange\n",
    "os.environ[\"SDL_VIDEODRIVER\"] = \"dummy\"\n",
    "clear_output() # You can use this method to clear your cell's output. "
   ]
  },
  {
   "cell_type": "markdown",
   "metadata": {},
   "source": [
    "# Q1: Q-Learning (100 Points)"
   ]
  },
  {
   "cell_type": "markdown",
   "metadata": {},
   "source": [
    "<font size=4>\n",
    "Author: Mohammad Moshtaghi\n",
    "<br/>\n",
    "<font color=red>\n",
    "Please run all the cells.\n",
    "</font>\n",
    "</font>\n",
    "<br/>\n",
    "</div>"
   ]
  },
  {
   "cell_type": "markdown",
   "metadata": {},
   "source": [
    "# 1. Cliff Walking (70 pts)"
   ]
  },
  {
   "cell_type": "markdown",
   "metadata": {},
   "source": [
    "In this section we are going to implement different Temporal Difference algorithms and compare their results. We start with a simple problem called **Cliff Walking**. You may have seen this game in your lecture slides and here we are going to train an RL Agent to play this game optimally.\n",
    "\n",
    "First, lets get familiar with game's environment."
   ]
  },
  {
   "cell_type": "markdown",
   "metadata": {},
   "source": [
    "## 1-1. Environment (10 pts)"
   ]
  },
  {
   "cell_type": "markdown",
   "metadata": {},
   "source": [
    "Lets declare our environment and see some of its hyperparameters."
   ]
  },
  {
   "cell_type": "code",
   "execution_count": 66,
   "metadata": {},
   "outputs": [
    {
     "name": "stdout",
     "output_type": "stream",
     "text": [
      "Action Space: Discrete(4)\n",
      "Observation Space: Discrete(48)\n",
      "Max Episode Steps: None\n",
      "Nondeterministic: False\n",
      "Reward Range: (-inf, inf)\n",
      "Reward Threshold: None\n",
      "\n"
     ]
    }
   ],
   "source": [
    "env = gym.make('CliffWalking-v0',render_mode = 'rgb_array')\n",
    "spec = gym.spec('CliffWalking-v0')\n",
    "\n",
    "print(f\"Action Space: {env.action_space}\")\n",
    "print(f\"Observation Space: {env.observation_space}\")\n",
    "print(f\"Max Episode Steps: {spec.max_episode_steps}\")\n",
    "print(f\"Nondeterministic: {spec.nondeterministic}\")\n",
    "print(f\"Reward Range: {env.reward_range}\")\n",
    "print(f\"Reward Threshold: {spec.reward_threshold}\\n\")"
   ]
  },
  {
   "cell_type": "code",
   "execution_count": 67,
   "metadata": {},
   "outputs": [],
   "source": [
    "Actions =  {0: 'UP', \n",
    "            1: 'RIGHT',\n",
    "            2: 'DOWN',\n",
    "            3: 'LEFT'}"
   ]
  },
  {
   "cell_type": "markdown",
   "metadata": {},
   "source": [
    "You can use **_visualize_** function to draw your state."
   ]
  },
  {
   "cell_type": "code",
   "execution_count": 68,
   "metadata": {},
   "outputs": [],
   "source": [
    "def visualize(env, action=None, reward=None):\n",
    "    env_screen = env.render()\n",
    "    plt.imshow(env_screen)\n",
    "    plt.axis('off');\n",
    "    title = ''\n",
    "    if action:\n",
    "        title += f'Action: {Actions[action]}'\n",
    "    if reward:\n",
    "        title += f'Reward: {reward}'\n",
    "    \n",
    "    plt.title(title)\n",
    "    plt.show()"
   ]
  },
  {
   "cell_type": "markdown",
   "metadata": {},
   "source": [
    "Test `visualize` function with a random action. First, using `env.reset` function, we reset our environment so that our agent returns to the starting point. for moving your agent, use `env.step` function. it returns four values:\n",
    "\n",
    "1. next_state\n",
    "2. reward\n",
    "3. done\n",
    "4. some info (Honestly, it doesn't matter)\n",
    "\n",
    "You may need this functions later :)\n",
    "\n"
   ]
  },
  {
   "cell_type": "code",
   "execution_count": 69,
   "metadata": {},
   "outputs": [
    {
     "name": "stdout",
     "output_type": "stream",
     "text": [
      "(24, -1, False, False, {'prob': 1.0})\n",
      "(25, -1, False, False, {'prob': 1.0})\n",
      "(26, -1, False, False, {'prob': 1.0})\n",
      "(27, -1, False, False, {'prob': 1.0})\n",
      "(28, -1, False, False, {'prob': 1.0})\n",
      "(29, -1, False, False, {'prob': 1.0})\n",
      "(30, -1, False, False, {'prob': 1.0})\n",
      "(31, -1, False, False, {'prob': 1.0})\n",
      "(32, -1, False, False, {'prob': 1.0})\n",
      "(33, -1, False, False, {'prob': 1.0})\n",
      "(34, -1, False, False, {'prob': 1.0})\n",
      "(35, -1, False, False, {'prob': 1.0})\n",
      "(47, -1, True, False, {'prob': 1.0})\n"
     ]
    },
    {
     "data": {
      "image/png": "[encoded data removed]",
      "text/plain": [
       "<Figure size 640x480 with 1 Axes>"
      ]
     },
     "metadata": {},
     "output_type": "display_data"
    }
   ],
   "source": [
    "env.reset() # You can use this function to reset your environment.\n",
    "######################## YOUR CODE HERE ########################\n",
    "print(env.step(0))\n",
    "for i in range(11):\n",
    "    print(env.step(1))\n",
    "print(env.step(2))\n",
    "visualize(env)\n",
    "\n",
    "######################## END YOUR CODE #########################"
   ]
  },
  {
   "cell_type": "markdown",
   "metadata": {},
   "source": [
    "## 1-2. Agent"
   ]
  },
  {
   "cell_type": "markdown",
   "metadata": {},
   "source": [
    "Please read the class below. You must inherite this class in the following sections and implement different RL algorithms."
   ]
  },
  {
   "cell_type": "code",
   "execution_count": 5,
   "metadata": {},
   "outputs": [],
   "source": [
    "class Agent:\n",
    "\n",
    "    def __init__(self, env, noise):\n",
    "        self.q_values = []\n",
    "        self.env = env\n",
    "        self.noise = noise\n",
    "        self.policy = [0] * env.observation_space.n \n",
    "        self.q_values= np.zeros((self.env.observation_space.n,self.env.action_space.n))\n",
    "\n",
    "\n",
    "    def learn(self, num_episodes, alpha, gamma, epsilon):\n",
    "        \"\"\"\n",
    "        Implement your Reinforcement Learning algorithm and train your agent in this function. \n",
    "        At the end, you must fill the q_values array.\n",
    "\n",
    "        Inputs:\n",
    "            - alpha: Learning rate\n",
    "            - gamma: Discount factor\n",
    "            - epsilon: The probability that the agent will act randomly instead of greedy in sampling.\n",
    "        \"\"\"\n",
    "\n",
    "        raise NotImplementedError()\n",
    "    \n",
    "    def create_policy(self):\n",
    "        \"\"\"\n",
    "        Create your policy in this function after your agent learns the q_values.\n",
    "        \"\"\"\n",
    "        for state in range(self.env.observation_space.n):\n",
    "            self.policy[state]=np.argmax(self.q_values[state,:])\n",
    "       \n",
    "    def act(self):\n",
    "        \"\"\"\n",
    "        Move your agent one step according to your policy.\n",
    "        \"\"\"\n",
    "        ######################## YOUR CODE HERE ########################\n",
    "        if np.random.uniform(0, 1) <self.noise:\n",
    "            return env.step(env.action_space.sample())\n",
    "        else: \n",
    "            return env.step(self.policy[env.s])\n",
    "        ######################## END YOUR CODE #########################\n",
    "        pass\n",
    "\n",
    "    def evaluate(self, num_episodes):\n",
    "        \"\"\"\n",
    "        Sample num_episodes episodes from your agent that acts according to your policy.\n",
    "        Then return the average rewards it gets.\n",
    "\n",
    "        Inputs:\n",
    "            - num_episodes: Number of episodes for sampling.\n",
    "        \"\"\"\n",
    "        ######################## YOUR CODE HERE ########################\n",
    "        total_reward=0\n",
    "        for i in range(num_episodes):\n",
    "            current_state=self.env.reset()[0]\n",
    "            reward=0\n",
    "            while True:\n",
    "                step_returned_values= self.act()\n",
    "                total_reward+=step_returned_values[1]\n",
    "                if step_returned_values[2]:\n",
    "                    break\n",
    "                current_state=step_returned_values[0]\n",
    "        \n",
    "        return (total_reward/num_episodes)\n",
    "    \n",
    "        ######################## END YOUR CODE #########################"
   ]
  },
  {
   "cell_type": "markdown",
   "metadata": {},
   "source": [
    "## 1-3. Q-Learning (15 pts)"
   ]
  },
  {
   "cell_type": "markdown",
   "metadata": {},
   "source": [
    "In this section, you must use **_Q-Learning_** algorithm to train your agent. Note that the action-value function Q(s,a) is updated iteratively as follows:\n",
    "\n",
    "$$ Q(s,a) \\leftarrow Q(s,a) + \\alpha \\left( r + \\gamma \\max_{a'} Q(s',a') - Q(s,a) \\right) $$\n",
    "\n",
    "where ‍‍‍‍‍`r` is the reward received after taking action a in state `s`, `s'` is the new state, $\\gamma$ is the discount factor (a value between 0 and 1 that determines the importance of future rewards), and $\\alpha$ is the learning rate (determines the step size at which the value function is updated)."
   ]
  },
  {
   "cell_type": "code",
   "execution_count": 71,
   "metadata": {},
   "outputs": [],
   "source": [
    "class CliffWalkerQL(Agent):\n",
    "    def choose_action(self, epsilon, state):\n",
    "        if np.random.uniform(0, 1) < epsilon:\n",
    "            action = env.action_space.sample()\n",
    "        else:\n",
    "            action = np.argmax(self.q_values[state, :])\n",
    "        return action\n",
    "    \n",
    "    def learn(self, num_episodes, alpha, gamma, epsilon):\n",
    "        ######################## YOUR CODE HERE ########################\n",
    "        for i in range(num_episodes):\n",
    "            current_state = env.reset()[0]\n",
    "            while True:\n",
    "                current_action = self.choose_action(epsilon, current_state)\n",
    "                step_returned_values=env.step(current_action)\n",
    "                \n",
    "                next_state=step_returned_values[0]\n",
    "                next_action = np.argmax(self.q_values[next_state, :])\n",
    "                \n",
    "                current_Q=self.q_values[current_state,current_action]\n",
    "                new_Q=self.q_values[next_state,next_action]\n",
    "                \n",
    "                self.q_values[current_state,current_action]=current_Q + alpha*(step_returned_values[1] + gamma*new_Q - current_Q)\n",
    "\n",
    "                if step_returned_values[2]:\n",
    "                    break\n",
    "                    \n",
    "                current_state=next_state\n",
    "        self.create_policy()\n",
    "        ######################## END YOUR CODE #########################\n"
   ]
  },
  {
   "cell_type": "markdown",
   "metadata": {},
   "source": [
    "## 1-4. Q-Learning Evaluation (10 pts)"
   ]
  },
  {
   "cell_type": "markdown",
   "metadata": {},
   "source": [
    "Train your agent and then evaluate it and display the result. Using the `visualize` function, show the path your agent takes in one of the episodes."
   ]
  },
  {
   "cell_type": "code",
   "execution_count": 72,
   "metadata": {},
   "outputs": [],
   "source": [
    "cliff_walker_ql = CliffWalkerQL(env, 0)\n",
    "alpha = 0.8\n",
    "gamma = 0.95\n",
    "epsilon = 0.2\n",
    "episodes = 1000\n",
    "cliff_walker_ql.learn(episodes, alpha, gamma, epsilon)"
   ]
  },
  {
   "cell_type": "code",
   "execution_count": 73,
   "metadata": {},
   "outputs": [
    {
     "name": "stdout",
     "output_type": "stream",
     "text": [
      "-13.0\n"
     ]
    }
   ],
   "source": [
    "######################## YOUR CODE HERE ########################\n",
    "cliff_walker_ql.create_policy()\n",
    "print(cliff_walker_ql.evaluate(1000))\n",
    "# current_state=env.reset()[0]\n",
    "# while True:\n",
    "#     step_returned_values, action=cliff_walker_ql.act(current_state)\n",
    "#     print(\"actions taken:\", Actions[action])\n",
    "#     current_state=step_returned_values[0]\n",
    "#     visualize(env)\n",
    "#     if step_returned_values[2]:\n",
    "#         break\n",
    "######################## END YOUR CODE #########################"
   ]
  },
  {
   "cell_type": "markdown",
   "metadata": {},
   "source": [
    "## 1-5. SARSA (15 pts)"
   ]
  },
  {
   "cell_type": "markdown",
   "metadata": {},
   "source": [
    "This time, you should use the SARSA algorithm, which is slightly different from the Q-Learning in implementation. But the result may significantly differ, and you should explain this difference, if any. \n",
    "\n",
    "Note that the SARSA update rule can be represented as:\n",
    "\n",
    "$$Q(S_t,A_t) \\leftarrow Q(S_t,A_t) + \\alpha \\left( R_{t+1} + \\gamma Q(S_{t+1},A_{t+1}) - Q(S_t,A_t) \\right)$$\n",
    "\n",
    "\n",
    "Where $Q(S_t,A_t)$ is the current estimate of the expected return for taking action $A_t$ in state $S_t$, $\\alpha$ is the learning rate, $R_{t+1}$ is the reward received after taking action $A_t$ in state $S_t$, $\\gamma$ is the discount factor, and $Q(S_{t+1},A_{t+1})$ is the estimated return for taking action $A_{t+1}$ in the next state $S_{t+1}$."
   ]
  },
  {
   "cell_type": "code",
   "execution_count": 74,
   "metadata": {},
   "outputs": [],
   "source": [
    "class CliffWalkerSARSA(Agent):\n",
    "    \n",
    "    def choose_action(self,state):\n",
    "            \n",
    "        if np.random.uniform(0, 1) < epsilon:\n",
    "            action = env.action_space.sample()\n",
    "        else:\n",
    "            action = np.argmax(self.q_values[state, :])\n",
    "        return action\n",
    "    \n",
    "    \n",
    "    def learn(self, num_episodes, alpha, gamma, epsilon):\n",
    "        ######################## YOUR CODE HERE ########################\n",
    "        for i in range(num_episodes):\n",
    "            current_state = env.reset()[0]\n",
    "            current_action = self.choose_action(current_state)\n",
    "\n",
    "            while True:\n",
    "\n",
    "                step_returned_value=env.step(current_action)\n",
    "                next_state=step_returned_value[0]\n",
    "                next_action = self.choose_action(next_state)\n",
    "                \n",
    "                current_Q=self.q_values[current_state, current_action]\n",
    "                new_Q =self.q_values[next_state, next_action]\n",
    "                \n",
    "                self.q_values[current_state,current_action]= current_Q + alpha*(step_returned_value[1] + gamma*new_Q - current_Q)\n",
    "               \n",
    "                \n",
    "                if step_returned_value[2]:\n",
    "                    break\n",
    "                current_state=next_state\n",
    "                current_action=next_action\n",
    "              \n",
    "        self.create_policy()       \n",
    "        ######################## END YOUR CODE #########################"
   ]
  },
  {
   "cell_type": "markdown",
   "metadata": {},
   "source": [
    "## 1-6. SARSA Evaluation (10 pts)"
   ]
  },
  {
   "cell_type": "markdown",
   "metadata": {},
   "source": [
    "Train your agent and then evaluate it and display the result. Using the `visualize` function, show the path your agent takes in one of the episodes."
   ]
  },
  {
   "cell_type": "code",
   "execution_count": 76,
   "metadata": {},
   "outputs": [
    {
     "name": "stdout",
     "output_type": "stream",
     "text": [
      "-13.0\n"
     ]
    }
   ],
   "source": [
    "cliff_walker_sarsa = CliffWalkerSARSA(env, 0)\n",
    "alpha = 0.1\n",
    "gamma = 0.9\n",
    "epsilon = 0.5\n",
    "episodes = 1000\n",
    "cliff_walker_sarsa.learn(episodes, alpha, gamma, epsilon)\n",
    "print(cliff_walker_ql.evaluate(1000))"
   ]
  },
  {
   "cell_type": "code",
   "execution_count": 55,
   "metadata": {},
   "outputs": [],
   "source": [
    "######################## YOUR CODE HERE ########################\n",
    "# current_state = env.reset()[0]\n",
    "# start_action = cliff_walker_sarsa.choose_action(current_state)\n",
    "\n",
    "# while True:\n",
    "#     next_state=env.step(start_action)[0]\n",
    "  \n",
    "#     temp_action = cliff_walker_sarsa.choose_action(next_state)\n",
    "#     new_Q=cliff_walker_sarsa.q_values[next_state, temp_action]\n",
    "#     current_Q=cliff_walker_sarsa.q_values[current_state, start_action]\n",
    "\n",
    "#     cliff_walker_sarsa.q_values[current_state, start_action] = current_Q + alpha * (env.step(start_action)[1] + gamma * new_Q - current_Q)\n",
    "#     start_action=temp_action\n",
    "#     current_state=next_state\n",
    "    \n",
    "# #commented so the file wouldn't become to heavy    \n",
    "# #visualize(env)\n",
    "#     if env.step(start_action)[2]:\n",
    "#         break\n",
    "               "
   ]
  },
  {
   "cell_type": "markdown",
   "metadata": {},
   "source": [
    "## 1-7. Increase Noises (10 pts)"
   ]
  },
  {
   "cell_type": "markdown",
   "metadata": {},
   "source": [
    "Increase noise and see how your obtained policy changes. Do this for both above algorithms and repeat above steps."
   ]
  },
  {
   "cell_type": "markdown",
   "metadata": {},
   "source": []
  },
  {
   "cell_type": "code",
   "execution_count": 77,
   "metadata": {},
   "outputs": [
    {
     "name": "stdout",
     "output_type": "stream",
     "text": [
      "-289.497\n"
     ]
    }
   ],
   "source": [
    "######################## YOUR CODE HERE ########################\n",
    "cliff_walker_ql = CliffWalkerQL(env, 0.5)\n",
    "alpha = 0.8\n",
    "gamma = 0.95\n",
    "epsilon = 0.2\n",
    "episodes = 1000\n",
    "\n",
    "cliff_walker_ql.learn(episodes, alpha, gamma, epsilon)\n",
    "######################## END YOUR CODE #########################\n",
    "######################## YOUR CODE HERE ########################\n",
    "# cliff_walker_ql.create_policy()\n",
    "print(cliff_walker_ql.evaluate(1000))\n",
    "# current_state=env.reset()[0]\n",
    "# while True:\n",
    "#     step_returned_values=cliff_walker_ql.act()\n",
    "#     print(\"actions taken:\", Actions[action])\n",
    "#     current_state=step_returned_values[0]\n",
    "# #     visualize(env)\n",
    "#     if step_returned_values[2]:\n",
    "#         break\n",
    "# ######################## END YOUR CODE #########################"
   ]
  },
  {
   "cell_type": "code",
   "execution_count": 78,
   "metadata": {},
   "outputs": [
    {
     "name": "stdout",
     "output_type": "stream",
     "text": [
      "-294.023\n"
     ]
    }
   ],
   "source": [
    "cliff_walker_sarsa = CliffWalkerSARSA(env, 0.5)\n",
    "print(cliff_walker_ql.evaluate(1000))\n",
    "# alpha = 0.1\n",
    "# gamma = 0.9\n",
    "# epsilon = 0.5\n",
    "# episodes = 1000\n",
    "# cliff_walker_sarsa.learn(episodes, alpha, gamma, epsilon)\n",
    "# ######################## YOUR CODE HERE ########################\n",
    "# current_state = env.reset()[0]\n",
    "# start_action = cliff_walker_sarsa.choose_action(current_state)\n",
    "\n",
    "# while True:\n",
    "#     next_state=env.step(start_action)[0]\n",
    "\n",
    "   \n",
    "#     temp_action = cliff_walker_sarsa.choose_action(next_state)\n",
    "#     new_Q=cliff_walker_sarsa.q_values[next_state, temp_action]\n",
    "#     current_Q=cliff_walker_sarsa.q_values[current_state, start_action]\n",
    "\n",
    "#     cliff_walker_sarsa.q_values[current_state, start_action] = current_Q + alpha * (env.step(start_action)[1] + gamma * new_Q - current_Q)\n",
    "#     start_action=temp_action\n",
    "#     current_state=next_state\n",
    "    \n",
    "# #     visualize(env)\n",
    "#     if env.step(start_action)[2]:\n",
    "#         break"
   ]
  },
  {
   "cell_type": "markdown",
   "metadata": {},
   "source": [
    "The next game that we want to implement is **Taxi Driver**. "
   ]
  },
  {
   "cell_type": "markdown",
   "metadata": {},
   "source": [
    "# 2. Taxi Driver (30 pts)"
   ]
  },
  {
   "cell_type": "markdown",
   "metadata": {},
   "source": [
    "## 2-1. Environment"
   ]
  },
  {
   "cell_type": "code",
   "execution_count": 2,
   "metadata": {},
   "outputs": [
    {
     "name": "stdout",
     "output_type": "stream",
     "text": [
      "Action Space: Discrete(6)\n",
      "Observation Space: Discrete(500)\n",
      "Max Episode Steps: 200\n",
      "Nondeterministic: False\n",
      "Reward Range: (-inf, inf)\n",
      "Reward Threshold: 8\n",
      "\n"
     ]
    }
   ],
   "source": [
    "env = gym.make('Taxi-v3')\n",
    "spec = gym.spec('Taxi-v3')\n",
    "\n",
    "print(f\"Action Space: {env.action_space}\")\n",
    "print(f\"Observation Space: {env.observation_space}\")\n",
    "print(f\"Max Episode Steps: {spec.max_episode_steps}\")\n",
    "print(f\"Nondeterministic: {spec.nondeterministic}\")\n",
    "print(f\"Reward Range: {env.reward_range}\")\n",
    "print(f\"Reward Threshold: {spec.reward_threshold}\\n\")"
   ]
  },
  {
   "cell_type": "code",
   "execution_count": 3,
   "metadata": {},
   "outputs": [],
   "source": [
    "Actions =  {0: 'DOWN', \n",
    "            1: 'UP',\n",
    "            2: 'RIGHT',\n",
    "            3: 'LEFT',\n",
    "            4: 'Pickup passenger',\n",
    "            5: 'Drop off passenger'}"
   ]
  },
  {
   "cell_type": "markdown",
   "metadata": {},
   "source": [
    "You can read more about the game and its observation space in this [link](https://gymnasium.farama.org/environments/toy_text/taxi/#observation-space).\n",
    "\n"
   ]
  },
  {
   "cell_type": "markdown",
   "metadata": {},
   "source": [
    "## 2-2. Q-Learning (5 pts)"
   ]
  },
  {
   "cell_type": "markdown",
   "metadata": {},
   "source": [
    "Implement Q-Learning algorithm for this problem. (Of course, you can use the code you implemented in the previous section and just enjoy the result (: )"
   ]
  },
  {
   "cell_type": "code",
   "execution_count": 81,
   "metadata": {},
   "outputs": [],
   "source": [
    "class TaxiQL(Agent):\n",
    "    def choose_action(self, epsilon, state):\n",
    "        if np.random.uniform(0, 1) < epsilon:\n",
    "            action = env.action_space.sample()\n",
    "        else:\n",
    "            action = np.argmax(self.q_values[state, :])\n",
    "        return action\n",
    "    \n",
    "    def learn(self, num_episodes, alpha, gamma, epsilon):\n",
    "        ######################## YOUR CODE HERE ########################\n",
    "        for i in range(num_episodes):\n",
    "            current_state = env.reset()[0]\n",
    "            while True:\n",
    "                current_action = self.choose_action(epsilon, current_state)\n",
    "                step_returned_values=env.step(current_action)\n",
    "                \n",
    "                next_state=step_returned_values[0]\n",
    "                next_action = np.argmax(self.q_values[next_state, :])\n",
    "                \n",
    "                current_Q=self.q_values[current_state,current_action]\n",
    "                new_Q=self.q_values[next_state,next_action]\n",
    "                \n",
    "                self.q_values[current_state,current_action]=current_Q + alpha*(step_returned_values[1] + gamma*new_Q - current_Q)\n",
    "\n",
    "                if step_returned_values[2]:\n",
    "                    break\n",
    "                    \n",
    "                current_state=next_state\n",
    "        self.create_policy()\n",
    "        ######################## END YOUR CODE #########################\n"
   ]
  },
  {
   "cell_type": "markdown",
   "metadata": {},
   "source": [
    "## 2-3. Q-Learning Evaluation (5 pts) "
   ]
  },
  {
   "cell_type": "markdown",
   "metadata": {},
   "source": [
    "Train your agent two times, once with 1000 episodes and once with 10000 episodes. Then evaluate it and display the result. Using the `visualize` function, show the path your agent takes in one of the episodes."
   ]
  },
  {
   "cell_type": "code",
   "execution_count": 82,
   "metadata": {},
   "outputs": [],
   "source": [
    "taxi_ql = TaxiQL(env, 0)\n",
    "alpha = 0.7\n",
    "gamma = 0.9\n",
    "epsilon = 0.9\n",
    "episodes = 1000\n",
    "taxi_ql.learn(episodes, alpha, gamma, epsilon)"
   ]
  },
  {
   "cell_type": "code",
   "execution_count": 83,
   "metadata": {},
   "outputs": [
    {
     "name": "stdout",
     "output_type": "stream",
     "text": [
      "7.944\n"
     ]
    }
   ],
   "source": [
    "######################## YOUR CODE HERE ########################\n",
    "print(taxi_ql.evaluate(episodes))\n",
    "######################## END YOUR CODE #########################"
   ]
  },
  {
   "cell_type": "code",
   "execution_count": 84,
   "metadata": {},
   "outputs": [],
   "source": [
    "taxi_ql = TaxiQL(env, 0)\n",
    "alpha = 0.7\n",
    "gamma = 0.9\n",
    "epsilon = 0.9\n",
    "episodes = 10000\n",
    "taxi_ql.learn(episodes, alpha, gamma, epsilon)"
   ]
  },
  {
   "cell_type": "code",
   "execution_count": 86,
   "metadata": {},
   "outputs": [
    {
     "name": "stdout",
     "output_type": "stream",
     "text": [
      "7.9188\n"
     ]
    }
   ],
   "source": [
    "######################## YOUR CODE HERE ########################\n",
    "print(taxi_ql.evaluate(episodes))\n",
    "######################## END YOUR CODE #########################"
   ]
  },
  {
   "cell_type": "markdown",
   "metadata": {},
   "source": [
    "## 2-4. TD(2) (15 pts)"
   ]
  },
  {
   "cell_type": "markdown",
   "metadata": {},
   "source": [
    "In this section, you have to implement the Taxi problem using TD(2) algorithm. The difference between this method and the previous methods is in the number of movements that we look from the future.\n",
    "\n",
    "For example, the SARSA TD(2) update rule can be represented as:\n",
    "\n",
    "$$Q(S_t,A_t) \\leftarrow Q(S_t,A_t) + \\alpha \\left( R_{t+1} + \\gamma Q(S_{t+1},A_{t+1}) + \\gamma^2 Q(s_{t+2},A_{t+2}) - Q(S_t,A_t) \\right)$$\n",
    "\n",
    "\n",
    "Where $Q(S_t,A_t)$ is the current estimate of the expected return for taking action $A_t$ in state $S_t$, $\\alpha$ is the learning rate, $R_{t+1}$ is the reward received after taking action $A_t$ in state $S_t$, $\\gamma$ is the discount factor, and $Q(S_{t+1},A_{t+1})$ is the estimated return for taking action $A_{t+1}$ in the next state $S_{t+1}$.\n",
    "\n",
    "You can see [this video](https://youtu.be/AJiG3ykOxmY) for more details about TD methods."
   ]
  },
  {
   "cell_type": "code",
   "execution_count": 9,
   "metadata": {},
   "outputs": [],
   "source": [
    "class TaxiTD2(Agent):\n",
    "    def choose_action(self, epsilon, state):\n",
    "        if np.random.uniform(0, 1) < epsilon:\n",
    "            action = env.action_space.sample()\n",
    "        else:\n",
    "            action = np.argmax(self.q_values[state, :])\n",
    "        return action\n",
    "    \n",
    "    def learn(self, num_episodes, alpha, gamma, epsilon):\n",
    "        ######################## YOUR CODE HERE ########################\n",
    "        for i in range(num_episodes):\n",
    "            state1 = env.reset()[0]\n",
    "            action1 = self.choose_action(epsilon, state1)\n",
    "            step_returned_values_1=env.step(action1)\n",
    "            state2=step_returned_values_1[0]\n",
    "            action2 = self.choose_action(epsilon, state2)\n",
    "            while True:    \n",
    "                step_returned_values_2=env.step(action2)\n",
    "                state3=step_returned_values_2[0]\n",
    "                action3 = self.choose_action(epsilon, state3)\n",
    "                \n",
    "                current_Q=self.q_values[state1,action1]\n",
    "                new_Q=self.q_values[state3,action3]\n",
    "                \n",
    "                self.q_values[state1,action1]=current_Q + alpha*(step_returned_values_1[1]+gamma*step_returned_values_2[1] + gamma*gamma*new_Q - current_Q)\n",
    "\n",
    "                if step_returned_values_2[2]:\n",
    "                    break\n",
    "                    \n",
    "                state1=state2\n",
    "                action1=action2\n",
    "                state2=state3\n",
    "                action2=action3\n",
    "                \n",
    "        self.create_policy()\n",
    "        ######################## END YOUR CODE #########################\n"
   ]
  },
  {
   "cell_type": "markdown",
   "metadata": {},
   "source": [
    "## 2-5. TD(2) Evaluation (5 pts)"
   ]
  },
  {
   "cell_type": "code",
   "execution_count": 10,
   "metadata": {},
   "outputs": [],
   "source": [
    "taxi_td2 = TaxiTD2(env, 0)\n",
    "alpha = 0.7\n",
    "gamma = 0.9\n",
    "epsilon = 0.9\n",
    "episodes = 1000\n",
    "taxi_td2.learn(episodes, alpha, gamma, epsilon)"
   ]
  },
  {
   "cell_type": "code",
   "execution_count": null,
   "metadata": {},
   "outputs": [],
   "source": [
    "######################## YOUR CODE HERE ########################\n",
    "print(taxi_td2.evaluate(episodes))\n",
    "######################## END YOUR CODE #########################"
   ]
  },
  {
   "cell_type": "markdown",
   "metadata": {},
   "source": [
    "You can see that the TD(2) method can reach an acceptable policy faster. Try to explain why."
   ]
  }
 ],
 "metadata": {
  "kernelspec": {
   "display_name": "Python 3 (ipykernel)",
   "language": "python",
   "name": "python3"
  },
  "language_info": {
   "codemirror_mode": {
    "name": "ipython",
    "version": 3
   },
   "file_extension": ".py",
   "mimetype": "text/x-python",
   "name": "python",
   "nbconvert_exporter": "python",
   "pygments_lexer": "ipython3",
   "version": "3.9.13"
  },
  "vscode": {
   "interpreter": {
    "hash": "026f2bef8fb7be59296f2f39e2043bb013bc567dc5026fb77125b1034979614d"
   }
  }
 },
 "nbformat": 4,
 "nbformat_minor": 2
}
