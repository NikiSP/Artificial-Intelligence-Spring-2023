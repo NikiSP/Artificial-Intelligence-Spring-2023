{
 "cells": [
  {
   "cell_type": "markdown",
   "metadata": {
    "id": "vrUo6bi-_ZX4"
   },
   "source": [
    "<img src='http://www-scf.usc.edu/~ghasemig/images/sharif.png' alt=\"SUT logo\" width=300 height=300 align=left class=\"saturate\" >\n",
    "\n",
    "<br>\n",
    "<font>\n",
    "<div dir=ltr align=center>\n",
    "<font color=0F5298 size=7>\n",
    "    Artificial Intelligence <br>\n",
    "<font color=2565AE size=5>\n",
    "    Computer Engineering Department <br>\n",
    "    Spring 2023<br>\n",
    "<font color=3C99D size=5>\n",
    "    Practical Assignment 2 - CSP <br>\n",
    "<font color=696880 size=4>\n",
    "    Yalda Shabanzadeh, Ali Salesi\n",
    "\n",
    "____"
   ]
  },
  {
   "cell_type": "markdown",
   "metadata": {
    "id": "mu79vDLI_k7L"
   },
   "source": [
    "# Personal Data"
   ]
  },
  {
   "cell_type": "code",
   "execution_count": 1,
   "metadata": {
    "id": "DSNViWnH_XIG"
   },
   "outputs": [],
   "source": [
    "# Set your student number\n",
    "student_number = '400105003'\n",
    "name = 'Niki'\n",
    "last_name = 'Sepasian'"
   ]
  },
  {
   "cell_type": "markdown",
   "metadata": {
    "id": "aDsTP-H5_pgG"
   },
   "source": [
    "# Rules\n",
    "- Make sure that all of your cells can be run perfectly. "
   ]
  },
  {
   "cell_type": "markdown",
   "metadata": {
    "id": "gvccZ5rb_pcZ"
   },
   "source": [
    "# Q1: Cryptarithmetic Puzzle (100 Points)"
   ]
  },
  {
   "cell_type": "markdown",
   "metadata": {
    "id": "A41VTSjN_9Zo"
   },
   "source": [
    "<font size=4>\n",
    "Author: Yalda Shabanzadeh, Ali Salesi\n",
    "<br/>\n",
    "<font color=red>\n",
    "Please run all the cells.\n",
    "</font>\n",
    "</font>\n",
    "<br/>\n",
    "</div>"
   ]
  },
  {
   "cell_type": "markdown",
   "metadata": {
    "id": "zpYUslP2AMs3"
   },
   "source": [
    "## Problem Definition\n",
    "\n",
    "The Cryptarithmetic Puzzle is a puzzle where the digits of some numbers are replaced with letters to make a mathematical equation. Each letter represents a unique digit from 0 to 9 (in case of base 10). The puzzle has the following constraints:\n",
    "\n",
    "- Each letter can be replaced by a digit from 0 to 9 (in case of base 10), but no digit can be used twice.\n",
    "- Each letter must be replaced by the same digit throughout the puzzle.\n",
    "- The leftmost digit of each number cannot be zero.\n",
    "\n",
    "### Example\n",
    "Here's an example puzzle:\n",
    "\n",
    "```\n",
    "  two\n",
    "+ two\n",
    "------\n",
    " four\n",
    "```\n",
    "\n",
    "In this puzzle, we need to replace each letter with a digit from 0 to 9 (in case of base 10) to make the equation true."
   ]
  },
  {
   "cell_type": "markdown",
   "metadata": {
    "id": "SjwFN8MOCrjg"
   },
   "source": [
    "## Note\n",
    "- You can use any arbitrary CSP algorithm to solve this question.\n",
    "- Allowed algorithms:\n",
    "BackTracking, AC3, AC3-LCV, AC3-MRV, AC3-LCV-MRV"
   ]
  },
  {
   "cell_type": "markdown",
   "metadata": {
    "id": "ALmhQacCGYDb"
   },
   "source": [
    "> Explain how you consider this problem as a CSP (5 points)\n",
    "\n",
    "\n",
    "<font color='blue' size='5'>\n",
    "our states consist of characters as variables and numbers (in range of 0 to (base-1)) as their values. \n",
    "the arithmetic equality is the constraint that limits the legal values in each variable's domain.\n",
    "       <br> constraint: when the characters get replaced by their assigned number, the equality must hold.\n",
    "    \n",
    "</font>"
   ]
  },
  {
   "cell_type": "markdown",
   "metadata": {},
   "source": [
    "## Input\n",
    "  - The first line is $N$ ,base of the sum operation. $2 \\le N \\le 36$. implementing CSP for $N$ other than 10 is optional and test cases with $N$ more than 10 has bonus score since it has a bigger search dimension so AC3, MRV and LCV is suggested.\n",
    "  - In the following lines until the last, operands for the sum operation is given.\n",
    "  - In the last line, $result$, the sum of strings is given.\n",
    "  - **Note**: all the operands and the result are in lowercase.\n",
    " \n",
    "$$1 \\le N \\le 50$$\n",
    "\n",
    "### Sample Input\n",
    "This sample describes the previous example.\n",
    "```\n",
    "10\n",
    "two\n",
    "two\n",
    "four\n",
    "```"
   ]
  },
  {
   "cell_type": "markdown",
   "metadata": {},
   "source": [
    "## Output\n",
    "for each given charachter as input, print it's corresponding number:\n",
    "  - **Note**: order is not important. there are multiple solutions for this problem. if all the constraints are satisfied, you can return any solution.\n",
    "\n",
    "### Sample Output\n",
    "The solution to the example above is:\n",
    "```\n",
    "f 1\n",
    "o 4\n",
    "r 8\n",
    "t 7\n",
    "u 6\n",
    "w 3\n",
    "```"
   ]
  },
  {
   "cell_type": "markdown",
   "metadata": {
    "id": "SSHhI4xLVvMu"
   },
   "source": [
    "## Your code\n",
    "**Note:** It's OK to change the signature for the given functions and the given structure is just a suggestion to help you with the implementation. If you tried to use another structure, the total score of that part won't be changed."
   ]
  },
  {
   "cell_type": "markdown",
   "metadata": {
    "id": "WQtGcfUxP1UJ"
   },
   "source": [
    "### Define Constraint (20 points)\n",
    "\n",
    "In this part, write the satisfaction part of the constraint of this problem.\n",
    "You can add any argument you want to `__init__` function.\n",
    "\n",
    "\n",
    "- Check if all letters have a different value. (Unique Constraint)\n",
    "- Check if the first letter of each word is not 0. (Not Zero Constraint)\n",
    "- Check if the sum of the operands with assigned values is equal to the result. (Sum Constraint)\n",
    "    - **Note**: if there are unassigned values for variables, you can ignore them and return true. for large inputs, you can use AC3 or MRV, LCV to reduce the search space with partial assignment."
   ]
  },
  {
   "cell_type": "code",
   "execution_count": 34,
   "metadata": {
    "id": "KF0ZneijGU0F"
   },
   "outputs": [],
   "source": [
    "import numpy as np\n",
    "\n",
    "class Constraint:\n",
    "    def __init__(self, variable: list[str]) -> None:\n",
    "        \"\"\"\n",
    "        Args:\n",
    "            variable: name of the variable\n",
    "        \"\"\"\n",
    "        self.variable = variable\n",
    "\n",
    "    def satisfied(self, assignment: dict[str, int], checkFor: bool) -> bool:\n",
    "        \"\"\"\n",
    "        Args:\n",
    "            assignment: dictionary of the assignment of the variables to the values\n",
    "\n",
    "        Returns:\n",
    "            False if the constraint is not satisfied, True otherwise (including if the variable is not assigned)\n",
    "        \"\"\"\n",
    "        if not self.satisfied(assignment, checkFor):\n",
    "            return False\n",
    "        return True\n",
    "\n",
    "class NotZeroConstraint(Constraint):\n",
    "    \"\"\"\"\n",
    "    Constraint that checks if the variable is not zero.\n",
    "    \"\"\"\n",
    "\n",
    "    def satisfied(self, assignment: dict[str, int]) -> bool:\n",
    "        if self.variable not in assignment:\n",
    "            return True\n",
    "        return assignment[self.variable] != 0\n",
    "\n",
    "\n",
    "class UniqueConstraint(Constraint):\n",
    "    \"\"\"\n",
    "    Constraint that checks if all the variables has unique values.\n",
    "    \"\"\"\n",
    "\n",
    "    def __init__(self) -> None:\n",
    "        pass\n",
    "\n",
    "    def satisfied(self, assignment: dict[str, int]) -> bool:\n",
    "        return len(assignment.keys()) == len(set(assignment.values()))\n",
    "\n",
    "    \n",
    "\n",
    "class SumConstraint(Constraint):\n",
    "\n",
    "    def __init__(self, operands: list[str], result: str, variables: list[str], base: int = 10, allow_carry: bool = False) -> None:\n",
    "        \"\"\"\n",
    "        Args:\n",
    "            operands: list of the operands\n",
    "            result: result of the sum\n",
    "            base: base of the numbers\n",
    "            allow_carry: if true, the variables in the result is checked from right to left so sum of the operands can have a carry,\n",
    "                         it is useful for partial sums of columns in AC3 or backtracking. implementation of this part is not required.\n",
    "        \"\"\"\n",
    "\n",
    "        self.operands = operands\n",
    "        self.result = result\n",
    "        self.base = base\n",
    "        self.allow_carry = allow_carry\n",
    "        self.variables = variables\n",
    "\n",
    "\n",
    "    def satisfied(self, assignment: dict[str, int]) -> bool:\n",
    "        result_length = len(result)\n",
    "        sum=0\n",
    "        for i in range(result_length-1,-1,-1):\n",
    "           \n",
    "            if result[i] not in assignment.keys():\n",
    "                return True\n",
    "            \n",
    "            temp=result_length-i-1\n",
    "            \n",
    "            for operand in operands:\n",
    "                j = len(operand)           \n",
    "                if j > temp:\n",
    "                    if operand[j-temp-1] not in assignment.keys():\n",
    "                        return True\n",
    "                    else:\n",
    "                        sum += (assignment[operand[j-temp-1]])\n",
    "                 \n",
    "            if((sum % base)!=assignment[result[i]]):\n",
    "                return False\n",
    "                \n",
    "            sum//=base\n",
    "        return True \n",
    "    "
   ]
  },
  {
   "cell_type": "markdown",
   "metadata": {
    "id": "wH4wlG0NS62E"
   },
   "source": [
    "### Define a CSP class (50 points)\n",
    "\n",
    "You can add functions you'll need to this class."
   ]
  },
  {
   "cell_type": "code",
   "execution_count": 35,
   "metadata": {
    "id": "8V_OGeSoTMi0"
   },
   "outputs": [],
   "source": [
    "class CSP:\n",
    "    def __init__(self, variables: list[str], constraints: list[Constraint], base: int = 10) -> None:\n",
    "        self.variables = variables\n",
    "        self.constraints = constraints\n",
    "        self.base = base\n",
    "\n",
    "\n",
    "    def consistent(self, assignment: dict[str, int]) -> bool:\n",
    "        \"\"\"\n",
    "        Args:\n",
    "            assignment: dictionary of the assignment of the variables to the values.\n",
    "\n",
    "        Returns:\n",
    "            False if the assignment is not consistent, True otherwise\n",
    "        \"\"\"\n",
    "        for constraint in self.constraints:\n",
    "            if not constraint.satisfied(assignment):\n",
    "                return False\n",
    "        return True\n",
    "\n",
    "    def backtracking_search(self, assignment):\n",
    "\n",
    "        if len(assignment) == len(self.variables):\n",
    "            return assignment\n",
    "\n",
    "        for variable in self.variables:\n",
    "            if variable not in assignment:\n",
    "                for value in range(self.base):\n",
    "                    assignment[variable] = value\n",
    "                    if (self.consistent(assignment)):\n",
    "                        result_assignment = self.backtracking_search(assignment)\n",
    "                        if result_assignment != None:\n",
    "                            return result_assignment\n",
    "                    del assignment[variable]\n",
    "                return None\n"
   ]
  },
  {
   "cell_type": "markdown",
   "metadata": {
    "id": "aZfWJAEdX48l"
   },
   "source": [
    "### Build CSP and solve it! (20 points)\n",
    "\n",
    "complete these functions for testing."
   ]
  },
  {
   "cell_type": "code",
   "execution_count": 36,
   "metadata": {
    "id": "E9aF198i_614"
   },
   "outputs": [],
   "source": [
    "def get_problem(operands: list[str], result: str, base: int = 10) -> CSP:\n",
    "    \"\"\"\n",
    "    Args:\n",
    "        operands: list of the operands\n",
    "        result: result of the sum\n",
    "        base: base of the numbers\n",
    "\n",
    "    Returns:\n",
    "        CSP problem\n",
    "    \"\"\"\n",
    "    variables = []\n",
    "    constraints=[]\n",
    "    \n",
    "    # Result variables\n",
    "    constraints.append(NotZeroConstraint(result[0]))   \n",
    "    for c in result:\n",
    "        if c not in variables:\n",
    "            variables.append(c)\n",
    "\n",
    "    # Operand variables \n",
    "    for i in range(len(operands)):\n",
    "        constraints.append(NotZeroConstraint(operands[i][0]))\n",
    "        for c in operands[i]:\n",
    "            if c not in variables:\n",
    "                variables.append(c)\n",
    "\n",
    "     \n",
    "    constraints.insert(0, UniqueConstraint())\n",
    "    constraints.insert(0, SumConstraint(operands, result, variables))\n",
    "    \n",
    "    \n",
    "    return CSP(variables, constraints, base)\n"
   ]
  },
  {
   "cell_type": "code",
   "execution_count": 37,
   "metadata": {},
   "outputs": [],
   "source": [
    "def backtracking_search(csp: CSP) -> dict[str, int]:\n",
    "    \"\"\"\n",
    "    Args:\n",
    "        csp: CSP problem\n",
    "\n",
    "    Returns:\n",
    "        dictionary of the assignment of the variables to the values if a solution is found, None otherwise\n",
    "    \"\"\"\n",
    "    result_string = \"\"\n",
    "    result_assignment = csp.backtracking_search({})\n",
    "    if result_assignment:\n",
    "        return result_assignment\n",
    "    return None"
   ]
  },
  {
   "cell_type": "markdown",
   "metadata": {
    "id": "69hRH8xlYvK9"
   },
   "source": [
    "## Test\n",
    "\n",
    "**Do not change the following cell.**\n",
    "\n",
    "**Note**: 5 tests will be added after deadline. (5 points)."
   ]
  },
  {
   "cell_type": "code",
   "execution_count": 39,
   "metadata": {
    "colab": {
     "base_uri": "https://localhost:8080/",
     "height": 236
    },
    "id": "0tOYbhBJZXeV",
    "outputId": "61338018-08fc-4084-d809-8c8872fc7fd4",
    "scrolled": true
   },
   "outputs": [
    {
     "name": "stdout",
     "output_type": "stream",
     "text": [
      "test q2_in1.txt passed. time elapsed=0.00000s\n",
      "solution: \n",
      "X 1\n",
      "Y 2\n",
      "Z 8\n",
      "test q2_in2.txt passed. time elapsed=0.00000s\n",
      "solution: \n",
      "A 2\n",
      "B 3\n",
      "C 4\n",
      "D 1\n",
      "E 0\n",
      "test q2_in3.txt passed. time elapsed=0.00000s\n",
      "solution: \n",
      "A 1\n",
      "B 9\n",
      "C 8\n",
      "test q2_in4.txt passed. time elapsed=0.00099s\n",
      "solution: \n",
      "A 1\n",
      "F 4\n",
      "L 0\n",
      "W 2\n",
      "Y 5\n",
      "test q2_in5.txt passed. time elapsed=0.00000s\n",
      "solution: \n",
      "G 8\n",
      "O 1\n",
      "T 2\n",
      "U 0\n",
      "Score = 100.0%\n"
     ]
    }
   ],
   "source": [
    "import helper.test_q2 as q2\n",
    "import time\n",
    "\n",
    "TIME_LIMIT = 3\n",
    "\n",
    "tests = q2.get_all_tests(prefix='q2_')\n",
    "tests_passed = 0\n",
    "for test in tests:\n",
    "    base, operands, result = q2.scan_test_input(test)\n",
    "    csp = get_problem(operands, result, base)\n",
    "    start_time = time.time()\n",
    "    sol = backtracking_search(csp)\n",
    "    if sol is None:\n",
    "        print(f'test {test} failed. time elapsed={time.time() - start_time:.5f}s')\n",
    "        continue\n",
    "    total_time = time.time() - start_time\n",
    "    if q2.is_result_valid(sol, operands, result, base) and total_time < TIME_LIMIT:\n",
    "        tests_passed += 1\n",
    "        print(f'test {test} passed. time elapsed={total_time:.5f}s')\n",
    "        print('solution: ')\n",
    "        print('\\n'.join([str(x).upper() + \" \" + str(y)\n",
    "              for x, y in sorted(sol.items())]))\n",
    "    else:\n",
    "        print(f'test {test} failed. time elapsed={total_time:.5f}s')\n",
    "print(f'Score = {tests_passed / len(tests) * 100}%')\n"
   ]
  },
  {
   "cell_type": "code",
   "execution_count": null,
   "metadata": {},
   "outputs": [],
   "source": []
  }
 ],
 "metadata": {
  "colab": {
   "provenance": []
  },
  "kernelspec": {
   "display_name": "Python 3 (ipykernel)",
   "language": "python",
   "name": "python3"
  },
  "language_info": {
   "codemirror_mode": {
    "name": "ipython",
    "version": 3
   },
   "file_extension": ".py",
   "mimetype": "text/x-python",
   "name": "python",
   "nbconvert_exporter": "python",
   "pygments_lexer": "ipython3",
   "version": "3.9.13"
  }
 },
 "nbformat": 4,
 "nbformat_minor": 1
}
